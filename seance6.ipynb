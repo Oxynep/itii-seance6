{
  "nbformat": 4,
  "nbformat_minor": 0,
  "metadata": {
    "kernelspec": {
      "display_name": "Python 3",
      "language": "python",
      "name": "python3"
    },
    "language_info": {
      "codemirror_mode": {
        "name": "ipython",
        "version": 3
      },
      "file_extension": ".py",
      "mimetype": "text/x-python",
      "name": "python",
      "nbconvert_exporter": "python",
      "pygments_lexer": "ipython3",
      "version": "3.7.6"
    },
    "colab": {
      "name": "seance6.ipynb",
      "provenance": []
    }
  },
  "cells": [
    {
      "cell_type": "markdown",
      "metadata": {
        "id": "dTrPoJEiITDk"
      },
      "source": [
        "Ex 1 : La m ́ethode des rectangles\n",
        "On cherche à calculer une intégrale en utilisant la méthode des rectangles.\n",
        "![1.png](attachment:1.png)\n",
        "\n",
        "L’intervalle de l’intégrale est noté [a,b] et la fonction à intégrer f. On divise cet intervalle en n petits segments et on fait la somme des aires des petits rectangles délimités par l’axe des abscisses et la courbe de la fonction f.\n",
        "\n",
        "![2.png](attachment:2.png)\n",
        "\n",
        "1. Ecrire la fontion integrale(f,a,b,n) \n",
        "2. Quelle valeur de n faut-il choisir pour être précis à 10^{-4} près ? Ecrire la fonction qui permette de calculer cette valeur.\n",
        "3. Tester avec la fonction $f(x)=3x^3+2x-1$ sur l'interval [0,10] avec un pas de 0.001\n",
        "4. Tester avec la fonction $g(x)=cos(\\frac {1}{x})$ sur l'interval [-1;1] privé de 0"
      ]
    },
    {
      "cell_type": "code",
      "metadata": {
        "id": "1rjCSAdKITDk",
        "outputId": "44933a3b-0b00-4c22-dfc5-b9fb6e45fd33",
        "colab": {
          "base_uri": "https://localhost:8080/"
        }
      },
      "source": [
        "import numpy as np\n",
        "import math\n",
        "\n",
        "def integrale(f, a, b, n):\n",
        "    integrale = 0\n",
        "    k=a;\n",
        "    while(k < b):\n",
        "        l = ( b - a ) / n\n",
        "        h = f( a + k * ( b - a ) / n)\n",
        "        aire = l * h\n",
        "        integrale += aire\n",
        "        k += n\n",
        "    return integrale\n",
        "\n",
        "def integralePrecis(f, a, b, nStart, precision):\n",
        "    val = integrale(f, a, b, nStart)\n",
        "    valStart = None\n",
        "    while valStart is None or abs(val - valStart) / valStart > precision:\n",
        "        nStart += 1\n",
        "        valStart = val\n",
        "        val = integrale(f, a, b, nStart)\n",
        "    return val, nStart\n",
        "\n",
        "integralePrecis(lambda x: x, 0.1, 1, 10, 1e-4)\n",
        "\n",
        "f = lambda x : 3*x**3 + 2*x - 1\n",
        "print(integrale(f, 0, 10, 0.001))\n",
        "\n",
        "g = lambda x : math.cos(1/x)\n",
        "print(integrale(g, 0.1, 10, 0.001))"
      ],
      "execution_count": 35,
      "outputs": [
        {
          "output_type": "stream",
          "text": [
            "7.501500076001311e+22\n",
            "98019899.49751785\n"
          ],
          "name": "stdout"
        }
      ]
    },
    {
      "cell_type": "markdown",
      "metadata": {
        "id": "3_TIEjbQITDl"
      },
      "source": [
        "Ex2: Méthode des trapèzes\n",
        "Le calcul numérique d’une intégrale par la méthode des trapèzes consiste à calculer une valeur approchée de l’intégrale $\\int_{a}^{b}f(x)dx$ en utilisant une interpolation linéaire de f par intervalles. Sur un intervalle [a,b], la valeur de l’intégrale peut être approchée par la surface du trapèzepassant par les points[a,0],[a,f(a)],[b,f(b)],[b,0]:\n",
        "$$\\int_{a}^{b}f(x)dx \\approx (b-a) \\left [ \\frac{f(a)+f(b)}{2} \\right ]$$\n",
        "\n",
        "Pour calculer une meilleur approximation de cette intégrale, on découpe l’intervalle [a,b] en n intervalles plus petits, de taille $\\frac{b-a}{n}$, et on calcule la somme des aires (signées) des trapèzes :\n",
        "$$\n",
        "\\int_{a}^{b}f(x)dx \\approx \\frac{(b-a)}{2n} \\sum_{k=i}^{n} \\left [ f(a+(k-i)\\frac{b-a}{n})+f(a+k\\frac{b-a}{n}) \\right ]$$\n",
        "\n",
        "1. Écrivez tous les termes de la somme ci-dessus pourn= 3, et observez qu’il estpossible de faire le calcul avec exactement n+ 1 = 4appels à la fonction f\n",
        "2. Écrire une fonction pythonintegrale_trapezes(a, b, n) qui calcule l’intégrale de la fonction f(x) de a à b avec n intervalles, en faisant au plus n+ 1 appels à la fonction f.\n",
        "3. Pour $f(x) =xsin(x2)$, calculez l’erreur numérique de son intégrale sur l’intervalle [0,√π], pour 2 à 30 intervalles."
      ]
    },
    {
      "cell_type": "markdown",
      "metadata": {
        "id": "WRA7my0pVPhi"
      },
      "source": [
        "somme : f(a) + 2 \\* f(a + h) + 2 \\* f(a + 2 \\* h) + f(b) = 4 appel à la fonction f"
      ]
    },
    {
      "cell_type": "code",
      "metadata": {
        "id": "8ti68KUTKDPO",
        "outputId": "7cd96db7-811c-4679-d031-12035593a64f",
        "colab": {
          "base_uri": "https://localhost:8080/"
        }
      },
      "source": [
        "def pythonintegrale_trapezes(f, a, b, n):\n",
        "     pas = (b - a) / n\n",
        "     x = a\n",
        "     somme = (f(a) + f(b)) / 2\n",
        "     for i in range(n-1):\n",
        "        x += pas\n",
        "        somme += f(x)\n",
        "     return somme / n\n",
        "    \n",
        "pythonintegrale_trapezes(lambda x: x, 0, 1, 100)\n",
        "\n",
        "int_f = 1\n",
        "for i in range(2, 31):\n",
        "     print (\"Nombre d'intervalle :\",i ,\": erreur = \", abs(int_f - integrale_trapezes(f, 0 , math.sqrt(math.pi), i)))"
      ],
      "execution_count": 36,
      "outputs": [
        {
          "output_type": "stream",
          "text": [
            "Nombre d'intervalle : 2 : erreur =  0.17555334945318268\n",
            "Nombre d'intervalle : 3 : erreur =  1.0423320197120365\n",
            "Nombre d'intervalle : 4 : erreur =  2.0401425774086044\n",
            "Nombre d'intervalle : 5 : erreur =  2.8140950940886222\n",
            "Nombre d'intervalle : 6 : erreur =  3.417141492888823\n",
            "Nombre d'intervalle : 7 : erreur =  3.8953745158088733\n",
            "Nombre d'intervalle : 8 : erreur =  4.281972179446756\n",
            "Nombre d'intervalle : 9 : erreur =  4.600096203189653\n",
            "Nombre d'intervalle : 10 : erreur =  4.866025015995431\n",
            "Nombre d'intervalle : 11 : erreur =  5.091398380652685\n",
            "Nombre d'intervalle : 12 : erreur =  5.284704510262213\n",
            "Nombre d'intervalle : 13 : erreur =  5.4522541372342515\n",
            "Nombre d'intervalle : 14 : erreur =  5.598824503344427\n",
            "Nombre d'intervalle : 15 : erreur =  5.728092156428066\n",
            "Nombre d'intervalle : 16 : erreur =  5.842929231165808\n",
            "Nombre d'intervalle : 17 : erreur =  5.945610063799039\n",
            "Nombre d'intervalle : 18 : erreur =  6.037957854736623\n",
            "Nombre d'intervalle : 19 : erreur =  6.121450521174728\n",
            "Nombre d'intervalle : 20 : erreur =  6.197298284988108\n",
            "Nombre d'intervalle : 21 : erreur =  6.266501361467541\n",
            "Nombre d'intervalle : 22 : erreur =  6.329893421988738\n",
            "Nombre d'intervalle : 23 : erreur =  6.388174739945255\n",
            "Nombre d'intervalle : 24 : erreur =  6.4419377548899845\n",
            "Nombre d'intervalle : 25 : erreur =  6.4916869955478855\n",
            "Nombre d'intervalle : 26 : erreur =  6.537854757139239\n",
            "Nombre d'intervalle : 27 : erreur =  6.580813548923527\n",
            "Nombre d'intervalle : 28 : erreur =  6.620886060187785\n",
            "Nombre d'intervalle : 29 : erreur =  6.658353201755404\n",
            "Nombre d'intervalle : 30 : erreur =  6.693460642005237\n"
          ],
          "name": "stdout"
        }
      ]
    }
  ]
}